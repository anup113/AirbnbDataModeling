{
 "cells": [
  {
   "cell_type": "code",
   "execution_count": 4,
   "metadata": {},
   "outputs": [],
   "source": [
    "import pandas as pd"
   ]
  },
  {
   "cell_type": "code",
   "execution_count": 5,
   "metadata": {},
   "outputs": [
    {
     "data": {
      "text/plain": [
       "(45756, 74)"
      ]
     },
     "execution_count": 5,
     "metadata": {},
     "output_type": "execute_result"
    }
   ],
   "source": [
    "# Scrapped in 07 september \n",
    "df = pd.read_csv('07 September, 2020_listings.csv')\n",
    "df.shape"
   ]
  },
  {
   "cell_type": "markdown",
   "metadata": {},
   "source": [
    "### Helper function \n",
    "\n",
    "These helper functions are there to help the feature data"
   ]
  },
  {
   "cell_type": "code",
   "execution_count": 157,
   "metadata": {},
   "outputs": [],
   "source": [
    "# to change the numeric type strigs to float values\n",
    "def toNumeric(a):\n",
    "    a = a.replace('$', '')\n",
    "    a = a.replace(',', '')\n",
    "    return float(a)\n",
    "\n",
    "# to change object type to strings\n",
    "def toString(a):\n",
    "    return str(a)\n",
    "\n",
    "# to remove the percentage and return as  \n",
    "def fpercentage(a):\n",
    "    if str(a) == 'nan':\n",
    "        return -1\n",
    "    else:\n",
    "        a = str(a)\n",
    "        a = a.replace('%', '')\n",
    "        a = int(a)\n",
    "        return a/100\n",
    "\n",
    "# to change into boolean \n",
    "def toBoolean(a):\n",
    "    if str(a) == 'f':\n",
    "        return False\n",
    "    if str(a) == 't':\n",
    "        return True\n",
    "\n",
    "# limit the about host string\n",
    "def fhostabout(a):\n",
    "    a = str(a)\n",
    "    a = a[:999]\n",
    "    return a\n",
    "\n",
    "# limit the neighboorhood string\n",
    "def hostneigh(a):\n",
    "    a = str(a)\n",
    "    a = a[:50]\n",
    "    return a\n",
    "\n",
    "# clean the description string\n",
    "def cleanText(a):\n",
    "    a = str(a)\n",
    "    a = a.replace('</b>', '')\n",
    "    a = a.replace('<b>', '')\n",
    "    a = a.replace('<br />', '')\n",
    "    a = a.replace(\"\\n\", '')\n",
    "    a = a.replace(\"\\r\", '')\n",
    "    return a\n",
    "\n",
    "# clean nan value to -1\n",
    "def cbed(a):\n",
    "    if str(a) == 'nan':\n",
    "        return -1.0\n",
    "\n",
    "    else:\n",
    "        a = str(a)\n",
    "        a = a.replace(' ', '')\n",
    "        return float(a)"
   ]
  },
  {
   "cell_type": "code",
   "execution_count": 159,
   "metadata": {},
   "outputs": [],
   "source": [
    "# Using above helper function clean the each features\n",
    "\n",
    "df['host_since'] = pd.to_datetime(df['host_since'])\n",
    "df['price'] = df['price'].apply(lambda x: toNumeric(x))\n",
    "df['host_name'] = df['host_name'].apply(lambda x: toString(x))\n",
    "df['host_response_rate'] = df['host_response_rate'].apply(lambda x: fpercentage(x))\n",
    "df['host_identity_verified'] = df['host_identity_verified'].apply(lambda x: toBoolean(x))\n",
    "df['host_has_profile_pic'] = df['host_has_profile_pic'].apply(lambda x: toBoolean(x))\n",
    "df['host_location'] = df['host_location'].apply(lambda x: hostneigh(x))\n",
    "df['host_about'] = df['host_about'].apply(lambda x: fhostabout(x))\n",
    "df['host_acceptance_rate'] = df['host_acceptance_rate'].apply(lambda x: fpercentage(x))\n",
    "df['host_is_superhost'] = df['host_is_superhost'].apply(lambda x: toBoolean(x))\n",
    "df['property_type'] = df['property_type'].apply(lambda x: toString(x))\n",
    "df['host_neighbourhood'] = df['host_neighbourhood'].apply(lambda x: hostneigh(x))\n",
    "df['room_type'] = df['room_type'].apply(lambda x: toString(x))\n",
    "df['listing_url'] = df['listing_url'].apply(lambda x: toString(x))\n",
    "df['picture_url'] = df['picture_url'].apply(lambda x: toString(x))\n",
    "df['description'] = df['description'].apply(lambda x: toString(x))\n",
    "df['neighbourhood_cleansed'] = df['neighbourhood_cleansed'].apply(lambda x: toString(x))\n",
    "df['amenities'] = df['amenities'].apply(lambda x: toString(x))\n",
    "df['instant_bookable'] = df['instant_bookable'].apply(lambda x: toBoolean(x))\n",
    "df['description'] = df['description'].apply(lambda x: cleanText(x))\n",
    "df['host_about'] = df['host_about'].apply(lambda x: cleanText(x))"
   ]
  },
  {
   "cell_type": "markdown",
   "metadata": {},
   "source": [
    "### We choose the following features\n",
    "\n",
    "#### TO DO: Explain why the following features are choosen:\n",
    "\n",
    "#### Hint: Normalizaiton"
   ]
  },
  {
   "cell_type": "markdown",
   "metadata": {},
   "source": [
    "Designing a Database from above features:\n",
    "\n",
    "    About Host\n",
    "        1.host_id\n",
    "        2.host_name\n",
    "        3.host_since\n",
    "        4.host_response_rate\n",
    "        5.host_identity_verified\n",
    "        6.host_location\n",
    "        7.host_about - description of host\n",
    "        8.host_response_rate\n",
    "\n",
    "        10.host_is_superhost\n",
    "        11.host_neighbourhood\n",
    "        12.host_listing_count\n",
    "        13.host_has_profile_pic\n",
    "    \n",
    "    \n",
    "    Aboout Listing\n",
    "        1.id\n",
    "        2.listing_url\n",
    "        3.picture_url\n",
    "        4.description\n",
    "        5.neighbourhood_cleansed\n",
    "        6.latitude\n",
    "        7.longitude\n",
    "        8.property_type\n",
    "        9.room_type\n",
    "        10.accommodates\n",
    "        11.bedrooms\n",
    "        12.beds\n",
    "        13.amenities\n",
    "        14.price\n",
    "        15.minimum_nights\n",
    "        16.review_scores_rating\n",
    "        17.review_scores_accuracy\n",
    "        18.review_scores_value\n",
    "        19.instant_bookable\n",
    "        20.reviews_per_month\n",
    "        "
   ]
  },
  {
   "cell_type": "code",
   "execution_count": 166,
   "metadata": {},
   "outputs": [],
   "source": [
    "relevant = ['host_id', 'host_name','host_since', 'host_response_rate', 'host_identity_verified', 'host_has_profile_pic', 'host_location', \n",
    "           'host_about', 'host_acceptance_rate', 'host_is_superhost', 'host_neighbourhood',\n",
    "           'calculated_host_listings_count', 'id', 'listing_url', 'picture_url', 'description', \n",
    "            'neighbourhood_cleansed', 'latitude', 'longitude', 'property_type', 'room_type', 'accommodates',\n",
    "           'bedrooms', 'beds', 'amenities', 'price', 'minimum_nights', 'review_scores_rating', 'review_scores_accuracy',\n",
    "           'review_scores_value', 'instant_bookable', 'reviews_per_month']"
   ]
  },
  {
   "cell_type": "markdown",
   "metadata": {},
   "source": [
    "#### Host table "
   ]
  },
  {
   "cell_type": "code",
   "execution_count": 167,
   "metadata": {},
   "outputs": [],
   "source": [
    "host = ['host_id', 'host_name','host_since', 'host_response_rate', 'host_identity_verified', 'host_has_profile_pic', 'host_location', \n",
    "           'host_about', 'host_acceptance_rate', 'host_is_superhost', 'host_neighbourhood',\n",
    "           'calculated_host_listings_count']"
   ]
  },
  {
   "cell_type": "markdown",
   "metadata": {},
   "source": [
    "#### Listing table"
   ]
  },
  {
   "cell_type": "code",
   "execution_count": 168,
   "metadata": {},
   "outputs": [],
   "source": [
    "listing = ['id', 'listing_url', 'picture_url', 'description', \n",
    "            'neighbourhood_cleansed', 'latitude', 'longitude', 'property_type', 'room_type', 'accommodates',\n",
    "           'bedrooms', 'beds', 'price', 'minimum_nights', 'review_scores_rating', 'review_scores_accuracy',\n",
    "           'review_scores_value', 'instant_bookable', 'reviews_per_month', 'host_id']"
   ]
  },
  {
   "cell_type": "code",
   "execution_count": 170,
   "metadata": {},
   "outputs": [],
   "source": [
    "# store all the features than have location/address data to create address table\n",
    "\n",
    "hl = df.host_location.values\n",
    "hn = df.host_neighbourhood.values\n",
    "nc = df.neighbourhood_cleansed.values"
   ]
  },
  {
   "cell_type": "code",
   "execution_count": 171,
   "metadata": {},
   "outputs": [
    {
     "name": "stdout",
     "output_type": "stream",
     "text": [
      "1610\n",
      "2069\n",
      "2111\n"
     ]
    }
   ],
   "source": [
    "# create a list of all the location/address\n",
    "\n",
    "locations = []\n",
    "for i in hl:\n",
    "    if i not in locations:\n",
    "        locations.append(i)\n",
    "print(len(locations))  \n",
    "\n",
    "for j in hn:\n",
    "    if j not in locations:\n",
    "        locations.append(j)\n",
    "print(len(locations))\n",
    "\n",
    "for k in nc:\n",
    "    if k not in locations:\n",
    "        locations.append(k)\n",
    "print(len(locations))"
   ]
  },
  {
   "cell_type": "code",
   "execution_count": 173,
   "metadata": {},
   "outputs": [],
   "source": [
    "# create a locaiton dictionary where locaiton is key and id is the value\n",
    "# using location as key will help us identify the id for the host and listings efficiently\n",
    "\n",
    "locations_dict = {}\n",
    "for i in range(0, len(locations)):\n",
    "    a = locations[i]\n",
    "    locations_dict[a] = i"
   ]
  },
  {
   "cell_type": "code",
   "execution_count": 174,
   "metadata": {},
   "outputs": [],
   "source": [
    "# store the key and values to create a address table\n",
    "\n",
    "address = locations_dict.keys()\n",
    "address_id = locations_dict.values()"
   ]
  },
  {
   "cell_type": "code",
   "execution_count": 175,
   "metadata": {},
   "outputs": [],
   "source": [
    "# Functions to resolve the id of the host locaiton and neighborhood that would be used \n",
    "# as the foreign key in the host table\n",
    "\n",
    "def resolveHostAddressId(df):\n",
    "    host_location_id = []\n",
    "    host_neighbourhood_id = []\n",
    "    for i in range(df.shape[0]):\n",
    "        a = df.host_location.iloc[i]\n",
    "        b = df.host_neighbourhood.iloc[i]\n",
    "        value_a = locations_dict[a]\n",
    "        value_b = locations_dict[b]\n",
    "        host_location_id.append(value_a)\n",
    "        host_neighbourhood_id.append(value_b)  \n",
    "    return host_location_id, host_neighbourhood_id\n",
    "\n",
    "# Functions to resolve the id of the listing neighborhood that would be as the foreign key in listing table\n",
    "\n",
    "def resolveListingAddressId(df):\n",
    "    location_id = []\n",
    "    for i in range(df.shape[0]):\n",
    "        c = df.neighbourhood_cleansed.iloc[i]\n",
    "        value_c = locations_dict[c]\n",
    "        location_id.append(value_c)\n",
    "    return location_id"
   ]
  },
  {
   "cell_type": "markdown",
   "metadata": {},
   "source": [
    "#### Creating a address dataframe and saving it as a csv file"
   ]
  },
  {
   "cell_type": "code",
   "execution_count": 176,
   "metadata": {},
   "outputs": [
    {
     "data": {
      "text/html": [
       "<div>\n",
       "<style scoped>\n",
       "    .dataframe tbody tr th:only-of-type {\n",
       "        vertical-align: middle;\n",
       "    }\n",
       "\n",
       "    .dataframe tbody tr th {\n",
       "        vertical-align: top;\n",
       "    }\n",
       "\n",
       "    .dataframe thead th {\n",
       "        text-align: right;\n",
       "    }\n",
       "</style>\n",
       "<table border=\"1\" class=\"dataframe\">\n",
       "  <thead>\n",
       "    <tr style=\"text-align: right;\">\n",
       "      <th></th>\n",
       "      <th>address_id</th>\n",
       "      <th>address</th>\n",
       "    </tr>\n",
       "  </thead>\n",
       "  <tbody>\n",
       "    <tr>\n",
       "      <th>0</th>\n",
       "      <td>0</td>\n",
       "      <td>New York, New York, United States</td>\n",
       "    </tr>\n",
       "    <tr>\n",
       "      <th>1</th>\n",
       "      <td>1</td>\n",
       "      <td>US</td>\n",
       "    </tr>\n",
       "    <tr>\n",
       "      <th>2</th>\n",
       "      <td>2</td>\n",
       "      <td>Brooklyn, New York, United States</td>\n",
       "    </tr>\n",
       "    <tr>\n",
       "      <th>3</th>\n",
       "      <td>3</td>\n",
       "      <td>Berkeley, California, United States</td>\n",
       "    </tr>\n",
       "    <tr>\n",
       "      <th>4</th>\n",
       "      <td>4</td>\n",
       "      <td>Sarasota, Florida, United States</td>\n",
       "    </tr>\n",
       "    <tr>\n",
       "      <th>...</th>\n",
       "      <td>...</td>\n",
       "      <td>...</td>\n",
       "    </tr>\n",
       "    <tr>\n",
       "      <th>2106</th>\n",
       "      <td>2106</td>\n",
       "      <td>Breezy Point</td>\n",
       "    </tr>\n",
       "    <tr>\n",
       "      <th>2107</th>\n",
       "      <td>2107</td>\n",
       "      <td>Castle Hill</td>\n",
       "    </tr>\n",
       "    <tr>\n",
       "      <th>2108</th>\n",
       "      <td>2108</td>\n",
       "      <td>Willowbrook</td>\n",
       "    </tr>\n",
       "    <tr>\n",
       "      <th>2109</th>\n",
       "      <td>2109</td>\n",
       "      <td>Little Neck</td>\n",
       "    </tr>\n",
       "    <tr>\n",
       "      <th>2110</th>\n",
       "      <td>2110</td>\n",
       "      <td>Bay Terrace, Staten Island</td>\n",
       "    </tr>\n",
       "  </tbody>\n",
       "</table>\n",
       "<p>2111 rows × 2 columns</p>\n",
       "</div>"
      ],
      "text/plain": [
       "      address_id                              address\n",
       "0              0    New York, New York, United States\n",
       "1              1                                   US\n",
       "2              2    Brooklyn, New York, United States\n",
       "3              3  Berkeley, California, United States\n",
       "4              4     Sarasota, Florida, United States\n",
       "...          ...                                  ...\n",
       "2106        2106                         Breezy Point\n",
       "2107        2107                          Castle Hill\n",
       "2108        2108                          Willowbrook\n",
       "2109        2109                          Little Neck\n",
       "2110        2110           Bay Terrace, Staten Island\n",
       "\n",
       "[2111 rows x 2 columns]"
      ]
     },
     "execution_count": 176,
     "metadata": {},
     "output_type": "execute_result"
    }
   ],
   "source": [
    "dfa = pd.DataFrame(address_id)\n",
    "dfa['address'] = address\n",
    "dfa.rename(columns={0:'address_id'})\n",
    "# dfa.to_csv('address_airbnb.csv', index=False)"
   ]
  },
  {
   "cell_type": "markdown",
   "metadata": {},
   "source": [
    "#### Creating a host and lisitng dataframe"
   ]
  },
  {
   "cell_type": "code",
   "execution_count": 177,
   "metadata": {},
   "outputs": [],
   "source": [
    "dfh = pd.DataFrame(df, columns = host)\n",
    "dfl = pd.DataFrame(df, columns = listing)"
   ]
  },
  {
   "cell_type": "code",
   "execution_count": 178,
   "metadata": {},
   "outputs": [],
   "source": [
    "# calling the id resolve funciton\n",
    "host_location_id, host_neighbourhood_id =  resolveHostAddressId(dfh)\n",
    "neighbourhood_cleansed_id = resolveListingAddressId(dfl)"
   ]
  },
  {
   "cell_type": "code",
   "execution_count": 179,
   "metadata": {},
   "outputs": [],
   "source": [
    "# storing the id as the feature in the dataframe\n",
    "dfh['host_location_id'] = host_location_id\n",
    "dfh['host_neighbourhood_id'] = host_neighbourhood_id\n",
    "dfl['neighbourhood_cleansed_id'] = neighbourhood_cleansed_id"
   ]
  },
  {
   "cell_type": "code",
   "execution_count": 180,
   "metadata": {},
   "outputs": [],
   "source": [
    "# dropping the address features\n",
    "dfh = dfh.drop(columns = ['host_location', 'host_neighbourhood'])\n",
    "dfl = dfl.drop(columns = ['neighbourhood_cleansed'])"
   ]
  },
  {
   "cell_type": "code",
   "execution_count": 181,
   "metadata": {},
   "outputs": [
    {
     "name": "stdout",
     "output_type": "stream",
     "text": [
      "(45756, 12)\n",
      "(45756, 20)\n"
     ]
    }
   ],
   "source": [
    "print(dfh.shape)\n",
    "print(dfl.shape)"
   ]
  },
  {
   "cell_type": "code",
   "execution_count": 182,
   "metadata": {},
   "outputs": [],
   "source": [
    "# since hostid is the primary id of the host table let's drop all the duplicates\n",
    "dfh = dfh.drop_duplicates()"
   ]
  },
  {
   "cell_type": "code",
   "execution_count": 183,
   "metadata": {},
   "outputs": [
    {
     "data": {
      "text/plain": [
       "(34826, 12)"
      ]
     },
     "execution_count": 183,
     "metadata": {},
     "output_type": "execute_result"
    }
   ],
   "source": [
    "dfh.shape"
   ]
  },
  {
   "cell_type": "code",
   "execution_count": null,
   "metadata": {},
   "outputs": [],
   "source": []
  },
  {
   "cell_type": "code",
   "execution_count": 184,
   "metadata": {},
   "outputs": [],
   "source": [
    "# dropping those host who don't have host_since data (only 12)\n",
    "dfh = dfh.dropna(subset=['host_since'])"
   ]
  },
  {
   "cell_type": "code",
   "execution_count": 185,
   "metadata": {},
   "outputs": [
    {
     "data": {
      "text/plain": [
       "(34814, 12)"
      ]
     },
     "execution_count": 185,
     "metadata": {},
     "output_type": "execute_result"
    }
   ],
   "source": [
    "dfh.shape"
   ]
  },
  {
   "cell_type": "code",
   "execution_count": 186,
   "metadata": {},
   "outputs": [
    {
     "data": {
      "text/plain": [
       "(45756, 20)"
      ]
     },
     "execution_count": 186,
     "metadata": {},
     "output_type": "execute_result"
    }
   ],
   "source": [
    "dfl.shape"
   ]
  },
  {
   "cell_type": "code",
   "execution_count": 187,
   "metadata": {},
   "outputs": [],
   "source": [
    "# further cleanning of the data with helper funcitons to change the datatype into float\n",
    "dfl['bedrooms'] = dfl['bedrooms'].apply(lambda x: cbed(x))\n",
    "dfl['beds'] = dfl['beds'].apply(lambda x: cbed(x))\n",
    "dfl['review_scores_rating'] = dfl['review_scores_rating'].apply(lambda x: cbed(x))\n",
    "dfl['review_scores_accuracy'] = dfl['review_scores_accuracy'].apply(lambda x: cbed(x))\n",
    "dfl['review_scores_value'] = dfl['review_scores_value'].apply(lambda x: cbed(x))\n",
    "dfl['reviews_per_month'] = dfl['reviews_per_month'].apply(lambda x: cbed(x))"
   ]
  },
  {
   "cell_type": "markdown",
   "metadata": {},
   "source": [
    "#### Save the cleaned file in csv "
   ]
  },
  {
   "cell_type": "code",
   "execution_count": 191,
   "metadata": {},
   "outputs": [],
   "source": [
    "dfh.to_csv('host-airbnb.csv', index=False)\n",
    "dfl.to_csv('listing-airbnb.csv', index=False)"
   ]
  },
  {
   "cell_type": "code",
   "execution_count": 189,
   "metadata": {},
   "outputs": [],
   "source": [
    "# missed = pd.DataFrame()\n",
    "# missed['column'] = dfr.columns\n",
    "\n",
    "# missed['percent'] = [\n",
    "#     round(100* dfr[col].isnull().sum() / len(dfr), 2) for col in dfr.columns\n",
    "# ]\n",
    "# missed = missed[missed['percent'] >0].sort_values('percent')\n",
    "\n",
    "# fig = px.bar(\n",
    "#     missed, \n",
    "#     x='percent',\n",
    "#     y=\"column\", \n",
    "#     orientation='h', \n",
    "#     title='Missed values percent for every column (percent > 0)', \n",
    "#     height=1300, \n",
    "#     width=800\n",
    "# )\n",
    "\n",
    "# fig.show()"
   ]
  }
 ],
 "metadata": {
  "kernelspec": {
   "display_name": "Python 3",
   "language": "python",
   "name": "python3"
  },
  "language_info": {
   "codemirror_mode": {
    "name": "ipython",
    "version": 3
   },
   "file_extension": ".py",
   "mimetype": "text/x-python",
   "name": "python",
   "nbconvert_exporter": "python",
   "pygments_lexer": "ipython3",
   "version": "3.8.6"
  }
 },
 "nbformat": 4,
 "nbformat_minor": 4
}
